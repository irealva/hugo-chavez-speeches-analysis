{
 "cells": [
  {
   "cell_type": "code",
   "execution_count": 25,
   "metadata": {
    "collapsed": true
   },
   "outputs": [],
   "source": [
    "import itertools\n",
    "import nltk\n",
    "import string"
   ]
  },
  {
   "cell_type": "code",
   "execution_count": 26,
   "metadata": {
    "collapsed": false
   },
   "outputs": [
    {
     "data": {
      "text/plain": [
       "['/Users/ire/nltk_data',\n",
       " '/usr/share/nltk_data',\n",
       " '/usr/local/share/nltk_data',\n",
       " '/usr/lib/nltk_data',\n",
       " '/usr/local/lib/nltk_data']"
      ]
     },
     "execution_count": 26,
     "metadata": {},
     "output_type": "execute_result"
    }
   ],
   "source": [
    "nltk.data.path"
   ]
  },
  {
   "cell_type": "code",
   "execution_count": 27,
   "metadata": {
    "collapsed": true
   },
   "outputs": [],
   "source": [
    "filelist = !ls ../data/organized_by_year_frequency/*"
   ]
  },
  {
   "cell_type": "code",
   "execution_count": 28,
   "metadata": {
    "collapsed": false
   },
   "outputs": [
    {
     "data": {
      "text/plain": [
       "['../data/organized_by_year_frequency/1999.frequency.txt',\n",
       " '../data/organized_by_year_frequency/2000.frequency.txt',\n",
       " '../data/organized_by_year_frequency/2001.frequency.txt',\n",
       " '../data/organized_by_year_frequency/2002.frequency.txt',\n",
       " '../data/organized_by_year_frequency/2003.frequency.txt',\n",
       " '../data/organized_by_year_frequency/2004.frequency.txt',\n",
       " '../data/organized_by_year_frequency/2005.frequency.txt',\n",
       " '../data/organized_by_year_frequency/2006.frequency.txt']"
      ]
     },
     "execution_count": 28,
     "metadata": {},
     "output_type": "execute_result"
    }
   ],
   "source": [
    "filelist"
   ]
  },
  {
   "cell_type": "code",
   "execution_count": 29,
   "metadata": {
    "collapsed": false
   },
   "outputs": [
    {
     "data": {
      "text/plain": [
       "8"
      ]
     },
     "execution_count": 29,
     "metadata": {},
     "output_type": "execute_result"
    }
   ],
   "source": [
    "# Saving each speech as an array of lines (word, frequency)\n",
    "speeches = []\n",
    "for filen in filelist:\n",
    "    with open(filen) as handle:\n",
    "        speeches.append(handle.read().split('\\n')) \n",
    "        \n",
    "len(speeches)"
   ]
  },
  {
   "cell_type": "code",
   "execution_count": 30,
   "metadata": {
    "collapsed": true
   },
   "outputs": [],
   "source": [
    "words_interest = !ls ../data/words_of_interest/words_interest.txt"
   ]
  },
  {
   "cell_type": "code",
   "execution_count": 31,
   "metadata": {
    "collapsed": false
   },
   "outputs": [
    {
     "data": {
      "text/plain": [
       "['../data/words_of_interest/words_interest.txt']"
      ]
     },
     "execution_count": 31,
     "metadata": {},
     "output_type": "execute_result"
    }
   ],
   "source": [
    "words_interest"
   ]
  },
  {
   "cell_type": "code",
   "execution_count": 32,
   "metadata": {
    "collapsed": false
   },
   "outputs": [
    {
     "data": {
      "text/plain": [
       "['agua\\nbarrio\\ncampesino\\ncivico-militar\\ncolectivo\\ncomunismo\\nconstitucion\\ncorrupcion\\ncrimen\\ncrisis\\ndemocracia\\neducacion\\nelectricidad\\nescasez\\netica\\nexpropiar\\nfascista\\ngolpe\\nimperialismo\\nimperio\\nimperio\\ninfierno\\ninflacion\\nluz\\nmedios\\nmuerte\\nnacionalizar\\nneoliberalismo\\noposicion\\npanamazonico\\npatria\\npaz\\npetroleo\\npobreza\\npoder\\nproduccion\\npueblo\\nregimen\\nrevolucion\\nsoberania\\nsocialismo\\ntrabajadores\\n']"
      ]
     },
     "execution_count": 32,
     "metadata": {},
     "output_type": "execute_result"
    }
   ],
   "source": [
    "words = []\n",
    "for filen in words_interest:\n",
    "    with open(filen) as handle:\n",
    "        words.append(handle.read()) \n",
    "len(words)\n",
    "words"
   ]
  },
  {
   "cell_type": "markdown",
   "metadata": {},
   "source": [
    "# Finding only words of interest in huge frequence list"
   ]
  },
  {
   "cell_type": "code",
   "execution_count": 33,
   "metadata": {
    "collapsed": false
   },
   "outputs": [
    {
     "data": {
      "text/plain": [
       "42"
      ]
     },
     "execution_count": 33,
     "metadata": {},
     "output_type": "execute_result"
    }
   ],
   "source": [
    "words[0] = words[0].replace('\\n', ' ') # Remove new lines\n",
    "words[0] = words[0].lower() # Make all the text lowercase\n",
    "words_list = nltk.word_tokenize(words[0].decode('utf-8')) # creates unicode list\n",
    "len(words_list)\n",
    "#words_list"
   ]
  },
  {
   "cell_type": "code",
   "execution_count": 34,
   "metadata": {
    "collapsed": true
   },
   "outputs": [],
   "source": [
    "def find_in_text(speech):\n",
    "    text_list = []\n",
    "    for i, word in enumerate(words_list):\n",
    "        found = 0\n",
    "        for j, lines in enumerate(speech):\n",
    "            token = lines.split(',')\n",
    "            if word == token[0]:\n",
    "                text_list.append(token)\n",
    "                found = 1\n",
    "        if found == 0:\n",
    "            new_word = []\n",
    "            new_word.append(word.encode('ascii'))\n",
    "            new_word.append('0')\n",
    "            text_list.append(new_word)\n",
    "    return text_list"
   ]
  },
  {
   "cell_type": "code",
   "execution_count": 35,
   "metadata": {
    "collapsed": false
   },
   "outputs": [],
   "source": [
    "frequency_words_interest = []\n",
    "\n",
    "for i, speech in enumerate(speeches):\n",
    "    result = find_in_text(speech)\n",
    "    frequency_words_interest.append(result)"
   ]
  },
  {
   "cell_type": "code",
   "execution_count": 43,
   "metadata": {
    "collapsed": false
   },
   "outputs": [
    {
     "data": {
      "text/plain": [
       "[['agua', '153'],\n",
       " ['barrio', '92'],\n",
       " ['campesino', '6'],\n",
       " ['civico-militar', '9'],\n",
       " ['colectivo', '25'],\n",
       " ['comunismo', '1'],\n",
       " ['constitucion', '46'],\n",
       " ['corrupcion', '45'],\n",
       " ['crimen', '0'],\n",
       " ['crisis', '20'],\n",
       " ['democracia', '99'],\n",
       " ['educacion', '126'],\n",
       " ['electricidad', '6'],\n",
       " ['escasez', '0'],\n",
       " ['etica', '30'],\n",
       " ['expropiar', '0'],\n",
       " ['fascista', '4'],\n",
       " ['golpe', '65'],\n",
       " ['imperialismo', '79'],\n",
       " ['imperio', '244'],\n",
       " ['imperio', '244'],\n",
       " ['infierno', '27'],\n",
       " ['inflacion', '13'],\n",
       " ['luz', '26'],\n",
       " ['medios', '53'],\n",
       " ['muerte', '82'],\n",
       " ['nacionalizar', '0'],\n",
       " ['neoliberalismo', '16'],\n",
       " ['oposicion', '77'],\n",
       " ['panamazonico', '0'],\n",
       " ['patria', '326'],\n",
       " ['paz', '108'],\n",
       " ['petroleo', '242'],\n",
       " ['pobreza', '140'],\n",
       " ['poder', '179'],\n",
       " ['produccion', '87'],\n",
       " ['pueblo', '929'],\n",
       " ['regimen', '3'],\n",
       " ['revolucion', '423'],\n",
       " ['soberania', '48'],\n",
       " ['socialismo', '228'],\n",
       " ['trabajadores', '76']]"
      ]
     },
     "execution_count": 43,
     "metadata": {},
     "output_type": "execute_result"
    }
   ],
   "source": [
    "frequency_words_interest[7]"
   ]
  },
  {
   "cell_type": "code",
   "execution_count": null,
   "metadata": {
    "collapsed": true
   },
   "outputs": [],
   "source": []
  }
 ],
 "metadata": {
  "kernelspec": {
   "display_name": "Python [conda env:textvis]",
   "language": "python",
   "name": "conda-env-textvis-py"
  },
  "language_info": {
   "codemirror_mode": {
    "name": "ipython",
    "version": 2
   },
   "file_extension": ".py",
   "mimetype": "text/x-python",
   "name": "python",
   "nbconvert_exporter": "python",
   "pygments_lexer": "ipython2",
   "version": "2.7.11"
  }
 },
 "nbformat": 4,
 "nbformat_minor": 0
}
