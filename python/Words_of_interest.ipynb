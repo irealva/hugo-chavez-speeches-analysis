{
 "cells": [
  {
   "cell_type": "code",
   "execution_count": 1,
   "metadata": {
    "collapsed": true
   },
   "outputs": [],
   "source": [
    "import itertools\n",
    "import nltk\n",
    "import string"
   ]
  },
  {
   "cell_type": "code",
   "execution_count": 2,
   "metadata": {
    "collapsed": false
   },
   "outputs": [
    {
     "data": {
      "text/plain": [
       "['/Users/ire/nltk_data',\n",
       " '/usr/share/nltk_data',\n",
       " '/usr/local/share/nltk_data',\n",
       " '/usr/lib/nltk_data',\n",
       " '/usr/local/lib/nltk_data']"
      ]
     },
     "execution_count": 2,
     "metadata": {},
     "output_type": "execute_result"
    }
   ],
   "source": [
    "nltk.data.path"
   ]
  },
  {
   "cell_type": "code",
   "execution_count": 3,
   "metadata": {
    "collapsed": true
   },
   "outputs": [],
   "source": [
    "filelist = !ls ../data/organized_by_year_frequency/*"
   ]
  },
  {
   "cell_type": "code",
   "execution_count": 4,
   "metadata": {
    "collapsed": false
   },
   "outputs": [
    {
     "data": {
      "text/plain": [
       "['../data/organized_by_year_frequency/1999.frequency.txt',\n",
       " '../data/organized_by_year_frequency/2000.frequency.txt',\n",
       " '../data/organized_by_year_frequency/2001.frequency.txt',\n",
       " '../data/organized_by_year_frequency/2002.frequency.txt',\n",
       " '../data/organized_by_year_frequency/2003.frequency.txt',\n",
       " '../data/organized_by_year_frequency/2004.frequency.txt',\n",
       " '../data/organized_by_year_frequency/2005.frequency.txt',\n",
       " '../data/organized_by_year_frequency/2006.frequency.txt']"
      ]
     },
     "execution_count": 4,
     "metadata": {},
     "output_type": "execute_result"
    }
   ],
   "source": [
    "filelist"
   ]
  },
  {
   "cell_type": "code",
   "execution_count": 39,
   "metadata": {
    "collapsed": false
   },
   "outputs": [
    {
     "data": {
      "text/plain": [
       "8"
      ]
     },
     "execution_count": 39,
     "metadata": {},
     "output_type": "execute_result"
    }
   ],
   "source": [
    "# Saving each speech as an array of lines (word, frequency)\n",
    "speeches = []\n",
    "for filen in filelist:\n",
    "    with open(filen) as handle:\n",
    "        speeches.append(handle.read().split('\\n')) \n",
    "        \n",
    "len(speeches)"
   ]
  },
  {
   "cell_type": "code",
   "execution_count": 25,
   "metadata": {
    "collapsed": true
   },
   "outputs": [],
   "source": [
    "words_interest = !ls ../data/words_interest.txt"
   ]
  },
  {
   "cell_type": "code",
   "execution_count": 26,
   "metadata": {
    "collapsed": false
   },
   "outputs": [
    {
     "data": {
      "text/plain": [
       "['../data/words_interest.txt']"
      ]
     },
     "execution_count": 26,
     "metadata": {},
     "output_type": "execute_result"
    }
   ],
   "source": [
    "words_interest"
   ]
  },
  {
   "cell_type": "code",
   "execution_count": 27,
   "metadata": {
    "collapsed": false
   },
   "outputs": [
    {
     "data": {
      "text/plain": [
       "['revolucion\\npatria\\nimperio\\nimperialismo\\npetroleo\\nsocialismo\\nmuerte\\npueblo\\neducacion\\npaz\\ndemocracia\\ncomunismo\\nproduccion\\npobreza\\ncrimen\\ntrabajadores\\ncolectivo\\ngolpe\\nsoberania\\nagua\\nluz\\nelectricidad\\nconsitucion\\nnacionalizar\\nexpropiar\\nmedios\\nbarrio\\noposicion\\nneoliberalismo\\nimperio\\ninflacion\\ncrisis\\ncampesino\\npoder\\nfascista\\nregimen\\ninfierno\\netica\\ncorrupcion\\ncivico-militar\\npanamazonico\\nescasez\\n']"
      ]
     },
     "execution_count": 27,
     "metadata": {},
     "output_type": "execute_result"
    }
   ],
   "source": [
    "words = []\n",
    "for filen in words_interest:\n",
    "    with open(filen) as handle:\n",
    "        words.append(handle.read()) \n",
    "len(words)\n",
    "words"
   ]
  },
  {
   "cell_type": "markdown",
   "metadata": {},
   "source": [
    "# Finding only words of interest in huge frequence list"
   ]
  },
  {
   "cell_type": "code",
   "execution_count": 28,
   "metadata": {
    "collapsed": false
   },
   "outputs": [
    {
     "data": {
      "text/plain": [
       "42"
      ]
     },
     "execution_count": 28,
     "metadata": {},
     "output_type": "execute_result"
    }
   ],
   "source": [
    "words[0] = words[0].replace('\\n', ' ') # Remove new lines\n",
    "words[0] = words[0].lower() # Make all the text lowercase\n",
    "words_list = nltk.word_tokenize(words[0].decode('utf-8')) # creates unicode list\n",
    "len(words_list)\n",
    "#words_list"
   ]
  },
  {
   "cell_type": "code",
   "execution_count": 97,
   "metadata": {
    "collapsed": true
   },
   "outputs": [],
   "source": [
    "def find_in_text(speech):\n",
    "    text_list = []\n",
    "    for i, word in enumerate(words_list):\n",
    "        found = 0\n",
    "        for j, lines in enumerate(speech):\n",
    "            token = lines.split(',')\n",
    "            if word == token[0]:\n",
    "                text_list.append(token)\n",
    "                found = 1\n",
    "        if found == 0:\n",
    "            new_word = []\n",
    "            new_word.append(word.encoding('utf-8'))\n",
    "            new_word.append('0')\n",
    "            text_list.append(new_word)\n",
    "    return text_list"
   ]
  },
  {
   "cell_type": "code",
   "execution_count": 98,
   "metadata": {
    "collapsed": false
   },
   "outputs": [
    {
     "ename": "AttributeError",
     "evalue": "'unicode' object has no attribute 'encoding'",
     "output_type": "error",
     "traceback": [
      "\u001b[0;31m---------------------------------------------------------------------------\u001b[0m",
      "\u001b[0;31mAttributeError\u001b[0m                            Traceback (most recent call last)",
      "\u001b[0;32m<ipython-input-98-ca45dbe72a22>\u001b[0m in \u001b[0;36m<module>\u001b[0;34m()\u001b[0m\n\u001b[1;32m      2\u001b[0m \u001b[0;34m\u001b[0m\u001b[0m\n\u001b[1;32m      3\u001b[0m \u001b[0;32mfor\u001b[0m \u001b[0mi\u001b[0m\u001b[0;34m,\u001b[0m \u001b[0mspeech\u001b[0m \u001b[0;32min\u001b[0m \u001b[0menumerate\u001b[0m\u001b[0;34m(\u001b[0m\u001b[0mspeeches\u001b[0m\u001b[0;34m)\u001b[0m\u001b[0;34m:\u001b[0m\u001b[0;34m\u001b[0m\u001b[0m\n\u001b[0;32m----> 4\u001b[0;31m     \u001b[0mresult\u001b[0m \u001b[0;34m=\u001b[0m \u001b[0mfind_in_text\u001b[0m\u001b[0;34m(\u001b[0m\u001b[0mspeech\u001b[0m\u001b[0;34m)\u001b[0m\u001b[0;34m\u001b[0m\u001b[0m\n\u001b[0m\u001b[1;32m      5\u001b[0m     \u001b[0mfrequency_words_interest\u001b[0m\u001b[0;34m.\u001b[0m\u001b[0mappend\u001b[0m\u001b[0;34m(\u001b[0m\u001b[0mresult\u001b[0m\u001b[0;34m)\u001b[0m\u001b[0;34m\u001b[0m\u001b[0m\n",
      "\u001b[0;32m<ipython-input-97-f4c096f31597>\u001b[0m in \u001b[0;36mfind_in_text\u001b[0;34m(speech)\u001b[0m\n\u001b[1;32m     10\u001b[0m         \u001b[0;32mif\u001b[0m \u001b[0mfound\u001b[0m \u001b[0;34m==\u001b[0m \u001b[0;36m0\u001b[0m\u001b[0;34m:\u001b[0m\u001b[0;34m\u001b[0m\u001b[0m\n\u001b[1;32m     11\u001b[0m             \u001b[0mnew_word\u001b[0m \u001b[0;34m=\u001b[0m \u001b[0;34m[\u001b[0m\u001b[0;34m]\u001b[0m\u001b[0;34m\u001b[0m\u001b[0m\n\u001b[0;32m---> 12\u001b[0;31m             \u001b[0mnew_word\u001b[0m\u001b[0;34m.\u001b[0m\u001b[0mappend\u001b[0m\u001b[0;34m(\u001b[0m\u001b[0mword\u001b[0m\u001b[0;34m.\u001b[0m\u001b[0mencoding\u001b[0m\u001b[0;34m(\u001b[0m\u001b[0;34m'utf-8'\u001b[0m\u001b[0;34m)\u001b[0m\u001b[0;34m)\u001b[0m\u001b[0;34m\u001b[0m\u001b[0m\n\u001b[0m\u001b[1;32m     13\u001b[0m             \u001b[0mnew_word\u001b[0m\u001b[0;34m.\u001b[0m\u001b[0mappend\u001b[0m\u001b[0;34m(\u001b[0m\u001b[0;34m'0'\u001b[0m\u001b[0;34m)\u001b[0m\u001b[0;34m\u001b[0m\u001b[0m\n\u001b[1;32m     14\u001b[0m             \u001b[0mtext_list\u001b[0m\u001b[0;34m.\u001b[0m\u001b[0mappend\u001b[0m\u001b[0;34m(\u001b[0m\u001b[0mnew_word\u001b[0m\u001b[0;34m)\u001b[0m\u001b[0;34m\u001b[0m\u001b[0m\n",
      "\u001b[0;31mAttributeError\u001b[0m: 'unicode' object has no attribute 'encoding'"
     ]
    }
   ],
   "source": [
    "frequency_words_interest = []\n",
    "\n",
    "for i, speech in enumerate(speeches):\n",
    "    result = find_in_text(speech)\n",
    "    frequency_words_interest.append(result)"
   ]
  },
  {
   "cell_type": "code",
   "execution_count": 96,
   "metadata": {
    "collapsed": false
   },
   "outputs": [
    {
     "data": {
      "text/plain": [
       "[['revolucion', '119'],\n",
       " ['patria', '5'],\n",
       " [u'imperio', '0'],\n",
       " [u'imperialismo', '0'],\n",
       " ['petroleo', '54'],\n",
       " ['socialismo', '2'],\n",
       " ['muerte', '11'],\n",
       " ['pueblo', '156'],\n",
       " ['educacion', '36'],\n",
       " ['paz', '62'],\n",
       " ['democracia', '30'],\n",
       " [u'comunismo', '0'],\n",
       " ['produccion', '34'],\n",
       " ['pobreza', '33'],\n",
       " [u'crimen', '0'],\n",
       " ['trabajadores', '14'],\n",
       " ['colectivo', '10'],\n",
       " ['golpe', '2'],\n",
       " ['soberania', '21'],\n",
       " ['agua', '14'],\n",
       " ['luz', '5'],\n",
       " ['electricidad', '1'],\n",
       " [u'consitucion', '0'],\n",
       " [u'nacionalizar', '0'],\n",
       " [u'expropiar', '0'],\n",
       " ['medios', '35'],\n",
       " ['barrio', '1'],\n",
       " ['oposicion', '5'],\n",
       " ['neoliberalismo', '19'],\n",
       " [u'imperio', '0'],\n",
       " ['inflacion', '24'],\n",
       " ['crisis', '1'],\n",
       " ['campesino', '3'],\n",
       " ['poder', '37'],\n",
       " [u'fascista', '0'],\n",
       " ['regimen', '2'],\n",
       " ['infierno', '6'],\n",
       " ['etica', '8'],\n",
       " ['corrupcion', '18'],\n",
       " ['civico-militar', '2'],\n",
       " [u'panamazonico', '0'],\n",
       " [u'escasez', '0']]"
      ]
     },
     "execution_count": 96,
     "metadata": {},
     "output_type": "execute_result"
    }
   ],
   "source": [
    "frequency_words_interest[3]"
   ]
  },
  {
   "cell_type": "code",
   "execution_count": null,
   "metadata": {
    "collapsed": true
   },
   "outputs": [],
   "source": []
  }
 ],
 "metadata": {
  "kernelspec": {
   "display_name": "Python 2",
   "language": "python",
   "name": "python2"
  },
  "language_info": {
   "codemirror_mode": {
    "name": "ipython",
    "version": 2
   },
   "file_extension": ".py",
   "mimetype": "text/x-python",
   "name": "python",
   "nbconvert_exporter": "python",
   "pygments_lexer": "ipython2",
   "version": "2.7.11"
  }
 },
 "nbformat": 4,
 "nbformat_minor": 0
}
