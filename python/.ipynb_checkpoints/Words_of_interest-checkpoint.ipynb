{
 "cells": [
  {
   "cell_type": "code",
   "execution_count": 1,
   "metadata": {
    "collapsed": true
   },
   "outputs": [],
   "source": [
    "import itertools\n",
    "import nltk\n",
    "import string"
   ]
  },
  {
   "cell_type": "code",
   "execution_count": 2,
   "metadata": {
    "collapsed": false
   },
   "outputs": [
    {
     "data": {
      "text/plain": [
       "['/Users/ire/nltk_data',\n",
       " '/usr/share/nltk_data',\n",
       " '/usr/local/share/nltk_data',\n",
       " '/usr/lib/nltk_data',\n",
       " '/usr/local/lib/nltk_data']"
      ]
     },
     "execution_count": 2,
     "metadata": {},
     "output_type": "execute_result"
    }
   ],
   "source": [
    "nltk.data.path"
   ]
  },
  {
   "cell_type": "code",
   "execution_count": 3,
   "metadata": {
    "collapsed": true
   },
   "outputs": [],
   "source": [
    "filelist = !ls ../data/organized_by_year_frequency/*"
   ]
  },
  {
   "cell_type": "code",
   "execution_count": 4,
   "metadata": {
    "collapsed": false
   },
   "outputs": [
    {
     "data": {
      "text/plain": [
       "['../data/organized_by_year_frequency/1999.frequency.txt',\n",
       " '../data/organized_by_year_frequency/2000.frequency.txt',\n",
       " '../data/organized_by_year_frequency/2001.frequency.txt',\n",
       " '../data/organized_by_year_frequency/2002.frequency.txt',\n",
       " '../data/organized_by_year_frequency/2003.frequency.txt',\n",
       " '../data/organized_by_year_frequency/2004.frequency.txt',\n",
       " '../data/organized_by_year_frequency/2005.frequency.txt',\n",
       " '../data/organized_by_year_frequency/2006.frequency.txt']"
      ]
     },
     "execution_count": 4,
     "metadata": {},
     "output_type": "execute_result"
    }
   ],
   "source": [
    "filelist"
   ]
  },
  {
   "cell_type": "code",
   "execution_count": 39,
   "metadata": {
    "collapsed": false
   },
   "outputs": [
    {
     "data": {
      "text/plain": [
       "8"
      ]
     },
     "execution_count": 39,
     "metadata": {},
     "output_type": "execute_result"
    }
   ],
   "source": [
    "# Saving each speech as an array of lines (word, frequency)\n",
    "speeches = []\n",
    "for filen in filelist:\n",
    "    with open(filen) as handle:\n",
    "        speeches.append(handle.read().split('\\n')) \n",
    "        \n",
    "len(speeches)"
   ]
  },
  {
   "cell_type": "code",
   "execution_count": 25,
   "metadata": {
    "collapsed": true
   },
   "outputs": [],
   "source": [
    "words_interest = !ls ../data/words_interest.txt"
   ]
  },
  {
   "cell_type": "code",
   "execution_count": 26,
   "metadata": {
    "collapsed": false
   },
   "outputs": [
    {
     "data": {
      "text/plain": [
       "['../data/words_interest.txt']"
      ]
     },
     "execution_count": 26,
     "metadata": {},
     "output_type": "execute_result"
    }
   ],
   "source": [
    "words_interest"
   ]
  },
  {
   "cell_type": "code",
   "execution_count": 27,
   "metadata": {
    "collapsed": false
   },
   "outputs": [
    {
     "data": {
      "text/plain": [
       "['revolucion\\npatria\\nimperio\\nimperialismo\\npetroleo\\nsocialismo\\nmuerte\\npueblo\\neducacion\\npaz\\ndemocracia\\ncomunismo\\nproduccion\\npobreza\\ncrimen\\ntrabajadores\\ncolectivo\\ngolpe\\nsoberania\\nagua\\nluz\\nelectricidad\\nconsitucion\\nnacionalizar\\nexpropiar\\nmedios\\nbarrio\\noposicion\\nneoliberalismo\\nimperio\\ninflacion\\ncrisis\\ncampesino\\npoder\\nfascista\\nregimen\\ninfierno\\netica\\ncorrupcion\\ncivico-militar\\npanamazonico\\nescasez\\n']"
      ]
     },
     "execution_count": 27,
     "metadata": {},
     "output_type": "execute_result"
    }
   ],
   "source": [
    "words = []\n",
    "for filen in words_interest:\n",
    "    with open(filen) as handle:\n",
    "        words.append(handle.read()) \n",
    "len(words)\n",
    "words"
   ]
  },
  {
   "cell_type": "markdown",
   "metadata": {},
   "source": [
    "# Finding only words of interest in huge frequence list"
   ]
  },
  {
   "cell_type": "code",
   "execution_count": 28,
   "metadata": {
    "collapsed": false
   },
   "outputs": [
    {
     "data": {
      "text/plain": [
       "42"
      ]
     },
     "execution_count": 28,
     "metadata": {},
     "output_type": "execute_result"
    }
   ],
   "source": [
    "words[0] = words[0].replace('\\n', ' ') # Remove new lines\n",
    "words[0] = words[0].lower() # Make all the text lowercase\n",
    "words_list = nltk.word_tokenize(words[0].decode('utf-8')) # creates unicode list\n",
    "len(words_list)\n",
    "#words_list"
   ]
  },
  {
   "cell_type": "code",
   "execution_count": 58,
   "metadata": {
    "collapsed": true
   },
   "outputs": [],
   "source": [
    "def find_in_text(speech):\n",
    "    text_list = []\n",
    "    for i, word in enumerate(words_list):\n",
    "        for j, lines in enumerate(speech):\n",
    "            token = lines.split(',')\n",
    "            if word == token[0]:\n",
    "                text_list.append(token)\n",
    "        \n",
    "    return text_list"
   ]
  },
  {
   "cell_type": "code",
   "execution_count": 65,
   "metadata": {
    "collapsed": false
   },
   "outputs": [],
   "source": [
    "frequency_words_interest = []\n",
    "\n",
    "for i, speech in enumerate(speeches):\n",
    "    result = find_in_text(speeches[0])\n",
    "    frequency_words_interest.append(result)"
   ]
  },
  {
   "cell_type": "code",
   "execution_count": 70,
   "metadata": {
    "collapsed": false
   },
   "outputs": [
    {
     "data": {
      "text/plain": [
       "[['revolucion', '8'],\n",
       " ['patria', '19'],\n",
       " ['petroleo', '4'],\n",
       " ['muerte', '9'],\n",
       " ['pueblo', '104'],\n",
       " ['paz', '13'],\n",
       " ['democracia', '10'],\n",
       " ['produccion', '3'],\n",
       " ['pobreza', '2'],\n",
       " ['trabajadores', '1'],\n",
       " ['colectivo', '3'],\n",
       " ['soberania', '8'],\n",
       " ['agua', '5'],\n",
       " ['luz', '1'],\n",
       " ['neoliberalismo', '2'],\n",
       " ['inflacion', '1'],\n",
       " ['crisis', '21'],\n",
       " ['campesino', '2'],\n",
       " ['poder', '8'],\n",
       " ['infierno', '1'],\n",
       " ['etica', '1'],\n",
       " ['corrupcion', '1']]"
      ]
     },
     "execution_count": 70,
     "metadata": {},
     "output_type": "execute_result"
    }
   ],
   "source": [
    "frequency_words_interest[1]"
   ]
  },
  {
   "cell_type": "code",
   "execution_count": null,
   "metadata": {
    "collapsed": true
   },
   "outputs": [],
   "source": []
  }
 ],
 "metadata": {
  "kernelspec": {
   "display_name": "Python 2",
   "language": "python",
   "name": "python2"
  },
  "language_info": {
   "codemirror_mode": {
    "name": "ipython",
    "version": 2
   },
   "file_extension": ".py",
   "mimetype": "text/x-python",
   "name": "python",
   "nbconvert_exporter": "python",
   "pygments_lexer": "ipython2",
   "version": "2.7.11"
  }
 },
 "nbformat": 4,
 "nbformat_minor": 0
}
