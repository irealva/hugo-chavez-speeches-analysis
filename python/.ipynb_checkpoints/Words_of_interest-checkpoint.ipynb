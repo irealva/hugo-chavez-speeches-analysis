{
 "cells": [
  {
   "cell_type": "code",
   "execution_count": 1,
   "metadata": {
    "collapsed": true
   },
   "outputs": [],
   "source": [
    "import itertools\n",
    "import nltk\n",
    "import string"
   ]
  },
  {
   "cell_type": "code",
   "execution_count": 2,
   "metadata": {
    "collapsed": false
   },
   "outputs": [
    {
     "data": {
      "text/plain": [
       "['/Users/ire/nltk_data',\n",
       " '/usr/share/nltk_data',\n",
       " '/usr/local/share/nltk_data',\n",
       " '/usr/lib/nltk_data',\n",
       " '/usr/local/lib/nltk_data']"
      ]
     },
     "execution_count": 2,
     "metadata": {},
     "output_type": "execute_result"
    }
   ],
   "source": [
    "nltk.data.path"
   ]
  },
  {
   "cell_type": "code",
   "execution_count": 3,
   "metadata": {
    "collapsed": true
   },
   "outputs": [],
   "source": [
    "filelist = !ls ../data/organized_by_year_frequency/*"
   ]
  },
  {
   "cell_type": "code",
   "execution_count": 4,
   "metadata": {
    "collapsed": false
   },
   "outputs": [
    {
     "data": {
      "text/plain": [
       "['../data/organized_by_year_frequency/1999.frequency.txt',\n",
       " '../data/organized_by_year_frequency/2000.frequency.txt',\n",
       " '../data/organized_by_year_frequency/2001.frequency.txt',\n",
       " '../data/organized_by_year_frequency/2002.frequency.txt',\n",
       " '../data/organized_by_year_frequency/2003.frequency.txt',\n",
       " '../data/organized_by_year_frequency/2004.frequency.txt',\n",
       " '../data/organized_by_year_frequency/2005.frequency.txt',\n",
       " '../data/organized_by_year_frequency/2006.frequency.txt']"
      ]
     },
     "execution_count": 4,
     "metadata": {},
     "output_type": "execute_result"
    }
   ],
   "source": [
    "filelist"
   ]
  },
  {
   "cell_type": "code",
   "execution_count": 39,
   "metadata": {
    "collapsed": false
   },
   "outputs": [
    {
     "data": {
      "text/plain": [
       "8"
      ]
     },
     "execution_count": 39,
     "metadata": {},
     "output_type": "execute_result"
    }
   ],
   "source": [
    "# Saving each speech as an array of lines (word, frequency)\n",
    "speeches = []\n",
    "for filen in filelist:\n",
    "    with open(filen) as handle:\n",
    "        speeches.append(handle.read().split('\\n')) \n",
    "        \n",
    "len(speeches)"
   ]
  },
  {
   "cell_type": "code",
   "execution_count": 106,
   "metadata": {
    "collapsed": true
   },
   "outputs": [],
   "source": [
    "words_interest = !ls ../data/words_interest.txt"
   ]
  },
  {
   "cell_type": "code",
   "execution_count": 107,
   "metadata": {
    "collapsed": false
   },
   "outputs": [
    {
     "data": {
      "text/plain": [
       "['../data/words_interest.txt']"
      ]
     },
     "execution_count": 107,
     "metadata": {},
     "output_type": "execute_result"
    }
   ],
   "source": [
    "words_interest"
   ]
  },
  {
   "cell_type": "code",
   "execution_count": 108,
   "metadata": {
    "collapsed": false
   },
   "outputs": [
    {
     "data": {
      "text/plain": [
       "['agua\\nbarrio\\ncampesino\\ncivico-militar\\ncolectivo\\ncomunismo\\nconsitucion\\ncorrupcion\\ncrimen\\ncrisis\\ndemocracia\\neducacion\\nelectricidad\\nescasez\\netica\\nexpropiar\\nfascista\\ngolpe\\nimperialismo\\nimperio\\nimperio\\ninfierno\\ninflacion\\nluz\\nmedios\\nmuerte\\nnacionalizar\\nneoliberalismo\\noposicion\\npanamazonico\\npatria\\npaz\\npetroleo\\npobreza\\npoder\\nproduccion\\npueblo\\nregimen\\nrevolucion\\nsoberania\\nsocialismo\\ntrabajadores\\n']"
      ]
     },
     "execution_count": 108,
     "metadata": {},
     "output_type": "execute_result"
    }
   ],
   "source": [
    "words = []\n",
    "for filen in words_interest:\n",
    "    with open(filen) as handle:\n",
    "        words.append(handle.read()) \n",
    "len(words)\n",
    "words"
   ]
  },
  {
   "cell_type": "markdown",
   "metadata": {},
   "source": [
    "# Finding only words of interest in huge frequence list"
   ]
  },
  {
   "cell_type": "code",
   "execution_count": 111,
   "metadata": {
    "collapsed": false
   },
   "outputs": [
    {
     "data": {
      "text/plain": [
       "42"
      ]
     },
     "execution_count": 111,
     "metadata": {},
     "output_type": "execute_result"
    }
   ],
   "source": [
    "words[0] = words[0].replace('\\n', ' ') # Remove new lines\n",
    "words[0] = words[0].lower() # Make all the text lowercase\n",
    "words_list = nltk.word_tokenize(words[0].decode('utf-8')) # creates unicode list\n",
    "len(words_list)\n",
    "#words_list"
   ]
  },
  {
   "cell_type": "code",
   "execution_count": 103,
   "metadata": {
    "collapsed": true
   },
   "outputs": [],
   "source": [
    "def find_in_text(speech):\n",
    "    text_list = []\n",
    "    for i, word in enumerate(words_list):\n",
    "        found = 0\n",
    "        for j, lines in enumerate(speech):\n",
    "            token = lines.split(',')\n",
    "            if word == token[0]:\n",
    "                text_list.append(token)\n",
    "                found = 1\n",
    "        if found == 0:\n",
    "            new_word = []\n",
    "            new_word.append(word.encode('ascii'))\n",
    "            new_word.append('0')\n",
    "            text_list.append(new_word)\n",
    "    return text_list"
   ]
  },
  {
   "cell_type": "code",
   "execution_count": 112,
   "metadata": {
    "collapsed": false
   },
   "outputs": [],
   "source": [
    "frequency_words_interest = []\n",
    "\n",
    "for i, speech in enumerate(speeches):\n",
    "    result = find_in_text(speech)\n",
    "    frequency_words_interest.append(result)"
   ]
  },
  {
   "cell_type": "code",
   "execution_count": 113,
   "metadata": {
    "collapsed": false
   },
   "outputs": [
    {
     "data": {
      "text/plain": [
       "[['agua', '14'],\n",
       " ['barrio', '1'],\n",
       " ['campesino', '3'],\n",
       " ['civico-militar', '2'],\n",
       " ['colectivo', '10'],\n",
       " ['comunismo', '0'],\n",
       " ['consitucion', '0'],\n",
       " ['corrupcion', '18'],\n",
       " ['crimen', '0'],\n",
       " ['crisis', '1'],\n",
       " ['democracia', '30'],\n",
       " ['educacion', '36'],\n",
       " ['electricidad', '1'],\n",
       " ['escasez', '0'],\n",
       " ['etica', '8'],\n",
       " ['expropiar', '0'],\n",
       " ['fascista', '0'],\n",
       " ['golpe', '2'],\n",
       " ['imperialismo', '0'],\n",
       " ['imperio', '0'],\n",
       " ['imperio', '0'],\n",
       " ['infierno', '6'],\n",
       " ['inflacion', '24'],\n",
       " ['luz', '5'],\n",
       " ['medios', '35'],\n",
       " ['muerte', '11'],\n",
       " ['nacionalizar', '0'],\n",
       " ['neoliberalismo', '19'],\n",
       " ['oposicion', '5'],\n",
       " ['panamazonico', '0'],\n",
       " ['patria', '5'],\n",
       " ['paz', '62'],\n",
       " ['petroleo', '54'],\n",
       " ['pobreza', '33'],\n",
       " ['poder', '37'],\n",
       " ['produccion', '34'],\n",
       " ['pueblo', '156'],\n",
       " ['regimen', '2'],\n",
       " ['revolucion', '119'],\n",
       " ['soberania', '21'],\n",
       " ['socialismo', '2'],\n",
       " ['trabajadores', '14']]"
      ]
     },
     "execution_count": 113,
     "metadata": {},
     "output_type": "execute_result"
    }
   ],
   "source": [
    "frequency_words_interest[3]"
   ]
  },
  {
   "cell_type": "code",
   "execution_count": null,
   "metadata": {
    "collapsed": true
   },
   "outputs": [],
   "source": []
  }
 ],
 "metadata": {
  "kernelspec": {
   "display_name": "Python 2",
   "language": "python",
   "name": "python2"
  },
  "language_info": {
   "codemirror_mode": {
    "name": "ipython",
    "version": 2
   },
   "file_extension": ".py",
   "mimetype": "text/x-python",
   "name": "python",
   "nbconvert_exporter": "python",
   "pygments_lexer": "ipython2",
   "version": "2.7.11"
  }
 },
 "nbformat": 4,
 "nbformat_minor": 0
}
